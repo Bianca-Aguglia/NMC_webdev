{
 "cells": [
  {
   "cell_type": "markdown",
   "metadata": {},
   "source": [
    "# 5.1 What is CSS?\n",
    "---\n",
    "**CSS** (Cascading Style Sheets) is a declarative language that controls how documents, images, and other web resources look in the browser. It uses rulesets made of selectors, properties and values to specify how elements are displayed. \"Cascading\" refers to how these rules are prioritized and to the order in which they are applied to elements.   \n",
    "  \n",
    "<img src='../images/img-anatomy-of-a-css-ruleset-mozilla.png' width='50%'>\n",
    "\n",
    "### Terms to keep in mind\n",
    "  \n",
    "A **document** is usually a text file marked up using a language such as HTML (or XML, or SVG).  \n",
    "  \n",
    "**Presenting** a document means showing it in a form that appeals to users (e.g. web browsers present web documents).  \n",
    "  \n",
    "A **user-agent** is a computer program representing a person inside a computer system. (e.g. browsers, agents that convert HTML and CSS to PDFs, etc)."
   ]
  },
  {
   "cell_type": "markdown",
   "metadata": {},
   "source": [
    "## 1.  Browser defaults\n",
    "If no style sheet is provided, browsers use defaults specified in internal style sheets. "
   ]
  },
  {
   "cell_type": "markdown",
   "metadata": {},
   "source": [
    "## 2. CSS developers\n",
    "CSS is developed by a group within the W3C called the [CSS Working Group](https://www.w3.org/Style/CSS/). This group writes the CSS specifications based on suggestions from its members (web browser vendors, invited experts, etc) and from web developers."
   ]
  },
  {
   "cell_type": "markdown",
   "metadata": {},
   "source": [
    "## 3. CSS support in the browser\n",
    "CSS features are not implemented by all browsers at the same time. It's important to check for browser support when writing CSS."
   ]
  },
  {
   "cell_type": "markdown",
   "metadata": {},
   "source": [
    "## Resources\n",
    "- [Mozilla what is CSS](https://developer.mozilla.org/en-US/docs/Learn/CSS/First_steps/What_is_CSS)"
   ]
  },
  {
   "cell_type": "code",
   "execution_count": null,
   "metadata": {},
   "outputs": [],
   "source": []
  }
 ],
 "metadata": {
  "kernelspec": {
   "display_name": "Python 3",
   "language": "python",
   "name": "python3"
  },
  "language_info": {
   "codemirror_mode": {
    "name": "ipython",
    "version": 3
   },
   "file_extension": ".py",
   "mimetype": "text/x-python",
   "name": "python",
   "nbconvert_exporter": "python",
   "pygments_lexer": "ipython3",
   "version": "3.7.7"
  }
 },
 "nbformat": 4,
 "nbformat_minor": 4
}
