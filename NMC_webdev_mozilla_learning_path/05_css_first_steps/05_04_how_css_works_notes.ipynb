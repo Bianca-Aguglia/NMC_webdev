{
 "cells": [
  {
   "cell_type": "markdown",
   "metadata": {},
   "source": [
    "# 5.4 How CSS works\n",
    "---\n",
    "To display a document, a browser must combine the document's content and style. The browser does that in a process that involves several steps, described in simplied form below:\n",
    "1. browser receives the HTML file\n",
    "2. browser converts the file into a tree-like structure called the DOM (Document Object Model), in which every element, attribute, and piece of text become a node in a single tree\n",
    "3. browser fetches other resources linked to in the HTML such as images, CSS stylesheet, etc\n",
    "4. browser parses the CSS stylesheet, sorts the different rules based on the concepts of *cascade* and *specificity*, and determines how elements will be rendered (this is called a *render tree*)\n",
    "5. the render tree is laid out\n",
    "6. the visual display of the render tree is shown on the screen (this is called *painting*)  \n",
    "<img src='../images/img-rendering-html-and-css-mozilla.svg' width='60%'>"
   ]
  },
  {
   "cell_type": "markdown",
   "metadata": {},
   "source": [
    "## 1. More about the DOM\n",
    "W3C defines the DOM as follows:\n",
    "<blockquote>\n",
    "    \"The W3C Document Object Model (DOM) is a platform and language-neutral interface that allows programs and scripts to dynamically access and update the content, structure, and style of a document.\"\n",
    "</blockquote>\n",
    "One way of visualizing the DOM is:  \n",
    "<img src='../images/img-dom-tree-w3schools.gif'>  \n",
    "Another ways is:  \n",
    "   \n",
    "<pre>\n",
    "document\n",
    "|-html\n",
    "|  |-head\n",
    "|  |  |-title\n",
    "|  |  |  |-\"My title\"\n",
    "|  |-body\n",
    "|-body\n",
    "|  |-href\n",
    "|  |-a\n",
    "|  |  |-\"My link\"\n",
    "|  |-h1\n",
    "|  |  |-\"My header\"\n",
    "</pre>  \n",
    "    \n",
    "The DOM is useful not just for styling and rendering an HTML document, it is also used for targeting elements using JavaScript.\n"
   ]
  },
  {
   "cell_type": "code",
   "execution_count": null,
   "metadata": {},
   "outputs": [],
   "source": []
  },
  {
   "cell_type": "markdown",
   "metadata": {},
   "source": [
    "## Resources\n",
    "- [Mozilla how css works](https://developer.mozilla.org/en-US/docs/Learn/CSS/First_steps/How_CSS_works)\n",
    "- [W3Schools the DOM](https://www.w3schools.com/js/js_htmldom.asp)"
   ]
  },
  {
   "cell_type": "code",
   "execution_count": null,
   "metadata": {},
   "outputs": [],
   "source": []
  }
 ],
 "metadata": {
  "kernelspec": {
   "display_name": "Python 3",
   "language": "python",
   "name": "python3"
  },
  "language_info": {
   "codemirror_mode": {
    "name": "ipython",
    "version": 3
   },
   "file_extension": ".py",
   "mimetype": "text/x-python",
   "name": "python",
   "nbconvert_exporter": "python",
   "pygments_lexer": "ipython3",
   "version": "3.7.7"
  }
 },
 "nbformat": 4,
 "nbformat_minor": 4
}
