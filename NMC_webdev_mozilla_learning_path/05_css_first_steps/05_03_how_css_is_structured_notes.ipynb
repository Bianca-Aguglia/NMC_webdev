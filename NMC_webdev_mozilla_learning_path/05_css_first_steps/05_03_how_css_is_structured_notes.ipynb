{
 "cells": [
  {
   "cell_type": "markdown",
   "metadata": {},
   "source": [
    "# 5.3 How CSS is structured\n",
    "---"
   ]
  },
  {
   "cell_type": "markdown",
   "metadata": {},
   "source": [
    "## 1. Ways of applying CSS \n",
    "The three ways of applying style to a web document are:\n",
    "1. **inline style**\n",
    "    - this is the opposite of best practice\n",
    "    - the style is specified as one of the attributes of an HTML tag\n",
    "    - might be the only option if the web developer is using a CMS enviroment that only allows them to change the HTML body \n",
    "    - e.g. of inline style\n",
    "    ```html\n",
    "    <p style='color:blue;padding:20px;'>This is inline style.</p>\n",
    "    ```\n",
    "2. **internal stylesheet**\n",
    "    - the style is specified inside an `<style>` element (within the `<head>` element)\n",
    "    - not best practice but might be the only option in case of a restrictive working environment (where web developer can't use external files)\n",
    "    - e.g. of internal stylesheet\n",
    "    ```html\n",
    "    <!DOCTYPE html>\n",
    "    <html>\n",
    "      <head>\n",
    "        <meta charset=\"utf-8\">\n",
    "        <title>My CSS experiment</title>\n",
    "        <style>\n",
    "          h1 {\n",
    "            color: blue;\n",
    "            background-color: yellow;\n",
    "            border: 1px solid black;\n",
    "          }\n",
    "        </style>\n",
    "      </head>\n",
    "      <body>\n",
    "        <h1>Hello World!</h1>\n",
    "      </body>\n",
    "    </html>\n",
    "    ```\n",
    "3. **external stylesheet**\n",
    "    - this is best practice\n",
    "    - the stylesheet is specified in an separate text file with a `.css` extension, and linked to from within the HTML document it applies to\n",
    "    - e.g. of using external stylesheet called `styles.css'\n",
    "    ```html\n",
    "    <!DOCTYPE html>\n",
    "    <html>\n",
    "      <head>\n",
    "        <meta charset=\"utf-8\">\n",
    "        <title>CSS external styleseet</title>\n",
    "        <link rel=\"stylesheet\" href=\"styles.css\">\n",
    "      </head>\n",
    "      <body>\n",
    "        <h1>Hello World!</h1>\n",
    "      </body>\n",
    "    </html>\n",
    "    ```"
   ]
  },
  {
   "cell_type": "markdown",
   "metadata": {},
   "source": [
    "## 2. Cascade and specificity\n",
    "When more than one rule apply to the same element, browsers use **cascade** and **specificity** to determine the final style of the element.  \n",
    "  \n",
    "**Cascade** means that, in case of conflicting rules, the browser will apply the rule that was specified last. In the example below, `<p>` elements will be styled red.\n",
    "```css\n",
    "p {\n",
    "    color: blue;\n",
    "}\n",
    "p {\n",
    "    color: red;\n",
    "}\n",
    "```\n",
    "**Specificity** means that, in case of conflicting rules, the browser uses a set of specification that determine which rule has higher priority (for example `.class` rules have higher priority than `element` rules). In the example below, a paragraph with a class of `.special` will be styled red, even if the rule for `.special` comes before the rule for `<p>` (in CSS terms, class rules have higher specificity than element rules).\n",
    "```css\n",
    ".special {\n",
    "    color: red;\n",
    "}\n",
    "p {\n",
    "    color: blue;\n",
    "}\n",
    "```"
   ]
  },
  {
   "cell_type": "markdown",
   "metadata": {},
   "source": [
    "## 3. Properties and values\n",
    "CSS rulesets are made of selectors, properties, and values. A `property` - `value` pair forms a **declaration**.  \n",
    "  \n",
    "Thing to keep in mind:\n",
    "- properties and values are case sensitive\n",
    "- if incorrect property names or incorrect values are used, the browser ignores them\n",
    "- white space in rulesets is ignored by browsers (but makes code more readable)\n",
    "- property values can also be functions\n",
    "    - calc()\n",
    "    - transform()\n",
    "- some properties can be specified using shorthands\n",
    "    - for example\n",
    "    ```css\n",
    "    .box {\n",
    "        border: 1px 2px 3px 4px;\n",
    "    }\n",
    "    ```\n",
    "    is the shorthand for \n",
    "    ```css\n",
    "    .box {\n",
    "        border-top: 1px;\n",
    "        border-right: 2px;\n",
    "        border-bottom: 3px;\n",
    "        border-left: 4px;\n",
    "    }\n",
    "    ```\n"
   ]
  },
  {
   "cell_type": "markdown",
   "metadata": {},
   "source": [
    "## 4. @rules\n",
    "@rules are special rules that can make a CSS file import an external resource, or behave differently based on the device it is viewed on or based on the width of the browser.  \n",
    "  \n",
    "Examples:\n",
    "```css\n",
    "@import 'styles2.css';\n",
    "```\n",
    "```css\n",
    "body {\n",
    "  background-color: pink;\n",
    "}\n",
    "\n",
    "@media (min-width: 30em) {\n",
    "  body {\n",
    "    background-color: blue;\n",
    "  }\n",
    "}\n",
    "```"
   ]
  },
  {
   "cell_type": "markdown",
   "metadata": {},
   "source": [
    "## 5. Comments\n",
    "Comments are specified using `/* This is a comment. */` sytnax."
   ]
  },
  {
   "cell_type": "markdown",
   "metadata": {},
   "source": [
    "## Resources\n",
    "- [Mozilla how CSS is structured](https://developer.mozilla.org/en-US/docs/Learn/CSS/First_steps/How_CSS_is_structured)"
   ]
  },
  {
   "cell_type": "code",
   "execution_count": null,
   "metadata": {},
   "outputs": [],
   "source": []
  }
 ],
 "metadata": {
  "kernelspec": {
   "display_name": "Python 3",
   "language": "python",
   "name": "python3"
  },
  "language_info": {
   "codemirror_mode": {
    "name": "ipython",
    "version": 3
   },
   "file_extension": ".py",
   "mimetype": "text/x-python",
   "name": "python",
   "nbconvert_exporter": "python",
   "pygments_lexer": "ipython3",
   "version": "3.7.7"
  }
 },
 "nbformat": 4,
 "nbformat_minor": 4
}
