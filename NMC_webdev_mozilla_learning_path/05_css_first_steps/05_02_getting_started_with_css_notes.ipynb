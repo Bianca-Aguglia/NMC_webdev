{
 "cells": [
  {
   "cell_type": "markdown",
   "metadata": {},
   "source": [
    "# 5.2 Getting started with CSS\n",
    "---\n",
    "There a three different ways of adding style to a web document. The best practice way is to write the CSS in a separate file and link to it from the HTML file.  \n",
    "  \n",
    "E.g. `<link rel='stylesheet' href='style.css'>`"
   ]
  },
  {
   "cell_type": "markdown",
   "metadata": {},
   "source": [
    "## Ways of selecting elements to style\n",
    "  \n",
    "Elements can be selected based on:  \n",
    "1. **Their type**: for example, selecting all `<h1>` elements to have the color red:\n",
    "```css\n",
    "h1 {\n",
    "    color: red;\n",
    "}\n",
    "```\n",
    "1. **Their location**: for example, selecting all `<p>` elements that are inside an `<article>` and make them red (this is an example of **descendant combinator**), or selecting all `<p>` elements that come right after an `<h1>` and style them green (this is an example of an **adjacent sibling combinator**):\n",
    "```css\n",
    "article p {         /*descendant combinator*/\n",
    "    color: red;\n",
    "}\n",
    "```\n",
    "```css\n",
    "h1 + p {            /*adjacent sibling combinator*/\n",
    "    color: green;\n",
    "}\n",
    "```\n",
    "1. **Their state**: for example, selecting all `<a>` elements that have been visited and remove the underline.\n",
    "```css\n",
    "a:visited {\n",
    "    text-decoration: none;\n",
    "}\n",
    "```"
   ]
  },
  {
   "cell_type": "markdown",
   "metadata": {},
   "source": [
    "## Resources\n",
    "- [Mozilla getting started with CSS](https://developer.mozilla.org/en-US/docs/Learn/CSS/First_steps/Getting_started)"
   ]
  },
  {
   "cell_type": "code",
   "execution_count": null,
   "metadata": {},
   "outputs": [],
   "source": []
  }
 ],
 "metadata": {
  "kernelspec": {
   "display_name": "Python 3",
   "language": "python",
   "name": "python3"
  },
  "language_info": {
   "codemirror_mode": {
    "name": "ipython",
    "version": 3
   },
   "file_extension": ".py",
   "mimetype": "text/x-python",
   "name": "python",
   "nbconvert_exporter": "python",
   "pygments_lexer": "ipython3",
   "version": "3.7.7"
  }
 },
 "nbformat": 4,
 "nbformat_minor": 4
}
