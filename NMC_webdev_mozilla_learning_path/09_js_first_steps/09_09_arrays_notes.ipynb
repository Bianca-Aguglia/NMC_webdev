{
 "cells": [
  {
   "cell_type": "markdown",
   "metadata": {},
   "source": [
    "# 9.9 Arrays\n",
    "---\n",
    "**Arrays** are generally described as \"list-like objects\". They are single objects that store multiple values.   \n",
    "  \n",
    "Example:"
   ]
  },
  {
   "cell_type": "code",
   "execution_count": 9,
   "metadata": {},
   "outputs": [
    {
     "data": {
      "application/javascript": [
       "let myArray = [1, 2, 'abc', ['and', 'a', 'nested', 'array']]\n",
       "console.log(myArray)\n",
       "console.log('')\n",
       "console.log(typeof(myArray))\n"
      ],
      "text/plain": [
       "<IPython.core.display.Javascript object>"
      ]
     },
     "metadata": {},
     "output_type": "display_data"
    }
   ],
   "source": [
    "%%javascript\n",
    "let myArray = [1, 2, 'abc', ['and', 'a', 'nested', 'array']]\n",
    "console.log(myArray)\n",
    "console.log('')\n",
    "console.log(typeof(myArray))"
   ]
  },
  {
   "cell_type": "markdown",
   "metadata": {},
   "source": [
    "```javascript\n",
    "(4) [1, 2, \"abc\", Array(4)]\n",
    "    0: 1\n",
    "    1: 2\n",
    "    2: \"abc\"\n",
    "    3: (4) [\"and\", \"a\", \"nested\", \"array\"]\n",
    "    length: 4\n",
    "    __proto__: Array(0)\n",
    "\n",
    "object\n",
    "```"
   ]
  },
  {
   "cell_type": "markdown",
   "metadata": {},
   "source": [
    "Arrays have many properties and methods, and the most commonly used ones are listed below:\n",
    "- length\n",
    "- indexing into an array (to get a value, or change a value)\n",
    "- converting between string and array (using `split()` and `join()`)\n",
    "- add to or remove from the end of an array (using `push()` and `pop`)\n",
    "- add to or remove from the beginning of an array (using `unshift()` and `shift()`)"
   ]
  },
  {
   "cell_type": "markdown",
   "metadata": {},
   "source": [
    "## Resources\n",
    "- [Mozilla arrays](https://developer.mozilla.org/en-US/docs/Learn/JavaScript/First_steps/Arrays)\n",
    "- [Mozilla indexed collections](https://developer.mozilla.org/en-US/docs/Web/JavaScript/Guide/Indexed_collections)"
   ]
  },
  {
   "cell_type": "code",
   "execution_count": null,
   "metadata": {},
   "outputs": [],
   "source": []
  }
 ],
 "metadata": {
  "kernelspec": {
   "display_name": "Python 3",
   "language": "python",
   "name": "python3"
  },
  "language_info": {
   "codemirror_mode": {
    "name": "ipython",
    "version": 3
   },
   "file_extension": ".py",
   "mimetype": "text/x-python",
   "name": "python",
   "nbconvert_exporter": "python",
   "pygments_lexer": "ipython3",
   "version": "3.7.7"
  }
 },
 "nbformat": 4,
 "nbformat_minor": 4
}
