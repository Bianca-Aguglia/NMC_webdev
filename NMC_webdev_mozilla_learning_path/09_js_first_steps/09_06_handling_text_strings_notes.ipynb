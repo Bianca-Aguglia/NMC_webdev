{
 "cells": [
  {
   "cell_type": "markdown",
   "metadata": {},
   "source": [
    "# 9.6 Handling text - strings in JavaScript\n",
    "---"
   ]
  },
  {
   "cell_type": "markdown",
   "metadata": {},
   "source": [
    "## 1. Notes about strings\n",
    "---\n",
    "- for string literals, we can use `'` or `\"`\n",
    "- to escape `'` or `\"` inside a string use `\\`\n",
    "- some useful methods:\n",
    "    - to convert `number` to `string`:\n",
    "    ```js\n",
    "    let num = 7;\n",
    "    num.toString;\n",
    "    ```\n",
    "    - to convert `string` to `number`\n",
    "    ```js\n",
    "    let str = '7';\n",
    "    Number(str);\n",
    "    ```"
   ]
  },
  {
   "cell_type": "markdown",
   "metadata": {},
   "source": [
    "## 2. Template literals\n",
    "---\n",
    "**Template literals** (a.k.a. template strings) are a new form of string syntax that is more flexible than `'` and `\"`. One of their advantages is that they make it easier to concatenate.  \n",
    "  \n",
    "Example:\n",
    "```js\n",
    "let a = 1;\n",
    "let b = 2;\n",
    "\n",
    "\\\\with '\n",
    "sumMessage = 'Sum of ' + a + 'and' + b + 'is ' + (a + b)\n",
    "\n",
    "\\\\with template literals\n",
    "sumMessage = `Sum of ${a} and ${b} is ${a + b}`\n",
    "```\n"
   ]
  },
  {
   "cell_type": "markdown",
   "metadata": {},
   "source": [
    "## Resources\n",
    "- [Mozilla handling text - strings in JavaScript](https://developer.mozilla.org/en-US/docs/Learn/JavaScript/First_steps/Strings)"
   ]
  },
  {
   "cell_type": "code",
   "execution_count": null,
   "metadata": {},
   "outputs": [],
   "source": []
  }
 ],
 "metadata": {
  "kernelspec": {
   "display_name": "Python 3",
   "language": "python",
   "name": "python3"
  },
  "language_info": {
   "codemirror_mode": {
    "name": "ipython",
    "version": 3
   },
   "file_extension": ".py",
   "mimetype": "text/x-python",
   "name": "python",
   "nbconvert_exporter": "python",
   "pygments_lexer": "ipython3",
   "version": "3.7.7"
  }
 },
 "nbformat": 4,
 "nbformat_minor": 4
}
