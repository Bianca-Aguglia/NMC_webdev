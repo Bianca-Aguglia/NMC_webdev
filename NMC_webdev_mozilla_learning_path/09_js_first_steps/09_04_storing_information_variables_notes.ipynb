{
 "cells": [
  {
   "cell_type": "markdown",
   "metadata": {},
   "source": [
    "# 9.4 Storing the information you need - variables\n",
    "---\n",
    "**Variables** are containers for values. Values stored inside variables can change. Also, there are many types of values that can be stored in variables.  \n",
    "  \n",
    "## 1. Variable types\n",
    "---\n",
    "Examples of JavaScript variable types:\n",
    "- number\n",
    "```js\n",
    "let thisYear = 2021;\n",
    "typeof thisYear;\n",
    "```\n",
    "- string\n",
    "```js\n",
    "let thisYear = '2021';\n",
    "typeof thisYear;\n",
    "```\n",
    "- boolean\n",
    "```js\n",
    "let isLeapYear = false;\n",
    "typeof isLeapYear;\n",
    "```\n",
    "- array\n",
    "```js\n",
    "let favoriteYears = [2021, 2021];\n",
    "typeof thisYear;\n",
    "```\n",
    "- object\n",
    "```js\n",
    "let thisYear = {gregorian: 2021, chinese: 'year of the ox'};\n",
    "typeof thisYear;\n",
    "```"
   ]
  },
  {
   "cell_type": "markdown",
   "metadata": {},
   "source": [
    "## 2. `var` vs `let`\n",
    "---\n",
    "- `var`\n",
    "    - can be declared after it was initialized\n",
    "    - can be declared again\n",
    "Example:\n",
    "```js\n",
    "var thisYear = 2020;\n",
    "var thisYear = 2021;\n",
    "```\n",
    "  \n",
    "- `let`\n",
    "    - needs to be declared before being initialized\n",
    "    - can't be declared again\n",
    "    - best practice (even though `var` is still valid)"
   ]
  },
  {
   "cell_type": "markdown",
   "metadata": {},
   "source": [
    "## 3. Constants\n",
    "---\n",
    "Reasons for using constants:\n",
    "- security reasons\n",
    "- easier debugging\n",
    "- code comprehension (makes it clear certain values should not be changed)  \n",
    "  \n",
    "Example:\n",
    "```js\n",
    "const dayInWeek = 7\n",
    "```"
   ]
  },
  {
   "cell_type": "markdown",
   "metadata": {},
   "source": [
    "## Resources\n",
    "- [Mozilla storing the information you need - variables](https://developer.mozilla.org/en-US/docs/Learn/JavaScript/First_steps/Variables)"
   ]
  },
  {
   "cell_type": "code",
   "execution_count": null,
   "metadata": {},
   "outputs": [],
   "source": []
  }
 ],
 "metadata": {
  "kernelspec": {
   "display_name": "Python 3",
   "language": "python",
   "name": "python3"
  },
  "language_info": {
   "codemirror_mode": {
    "name": "ipython",
    "version": 3
   },
   "file_extension": ".py",
   "mimetype": "text/x-python",
   "name": "python",
   "nbconvert_exporter": "python",
   "pygments_lexer": "ipython3",
   "version": "3.7.7"
  }
 },
 "nbformat": 4,
 "nbformat_minor": 4
}
