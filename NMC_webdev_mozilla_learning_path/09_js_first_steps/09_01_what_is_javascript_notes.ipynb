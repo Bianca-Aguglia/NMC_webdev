{
 "cells": [
  {
   "cell_type": "markdown",
   "metadata": {},
   "source": [
    "# 9.1 What is JavaScript?\n",
    "---\n",
    "**JavaScript** is a programming language used mostly for dynamic client-side scripts and for server-side scripts using a runtime such as Node.js. It is the language that adds interactivity to websites build with HTML and CSS.   "
   ]
  },
  {
   "cell_type": "markdown",
   "metadata": {},
   "source": [
    "## 1. Web APIs\n",
    "---\n",
    "JavaScript is even more powerful when used in combination with web APIs (ready-made sets of code building blocks) which generally fall into two categories:\n",
    "- browser APIs such as:\n",
    "    - the DOM\n",
    "    - Geolocation API\n",
    "    - Canvas\n",
    "    - WebGL\n",
    "    - HTMLMediaElement\n",
    "    - WebRTC\n",
    "- third-party APIs, such as:\n",
    "    - Twitter API\n",
    "    - Google Maps API\n",
    "    - OpenStreetMap API"
   ]
  },
  {
   "cell_type": "markdown",
   "metadata": {},
   "source": [
    "## 2. Browser security\n",
    "---\n",
    "Each JavaScript is executed in the browser tab it was opened in (each browser tab has its own execution environment). However, it is possible to send code between browser windows and browser tabs. <small>(not explained in this module, so I'll come back to it.)<small>"
   ]
  },
  {
   "cell_type": "markdown",
   "metadata": {},
   "source": [
    "## 3. More about JavaScript\n",
    "---\n",
    "- JavaScript is **interpreted** (vs. **compiled**)\n",
    "- JavaScript can be used both on **client-side** and **server-side**\n",
    "- JavaScript is needed to make **static** content into **dynamic** content (both on client-side and server-side)  \n",
    "  \n",
    "Just like CSS, JavaScript can be used:\n",
    "- **in-line**: this is the opposite of best practice\n",
    "- **internal script**: the JavaScript code is contained inside a `<script>` element\n",
    "- **external script**: this is best practice and it consists of JavaScript code being written in a separate file and being linked to using a `<script>` element  \n",
    "  \n",
    "### Script loading strategies:\n",
    "- **async** - script is loaded after HTML, but order is not guaranteed\n",
    "- **defer** - script is loaded after HTML, order is guaranteed\n",
    "- script tag is placed at the bottom of the `<body>` element - on large sites, this can cause performance issues  \n",
    "  \n",
    "### Comments\n",
    "- inline: `// comment here`\n",
    "- multi-line:  \n",
    "```\n",
    "/*  multi-line \n",
    "    comment \n",
    "    here */```"
   ]
  },
  {
   "cell_type": "markdown",
   "metadata": {},
   "source": [
    "## Resources\n",
    "- [Mozilla what is JavaScript?](https://developer.mozilla.org/en-US/docs/Learn/JavaScript/First_steps/What_is_JavaScript)"
   ]
  },
  {
   "cell_type": "code",
   "execution_count": null,
   "metadata": {},
   "outputs": [],
   "source": []
  }
 ],
 "metadata": {
  "kernelspec": {
   "display_name": "Python 3",
   "language": "python",
   "name": "python3"
  },
  "language_info": {
   "codemirror_mode": {
    "name": "ipython",
    "version": 3
   },
   "file_extension": ".py",
   "mimetype": "text/x-python",
   "name": "python",
   "nbconvert_exporter": "python",
   "pygments_lexer": "ipython3",
   "version": "3.7.7"
  }
 },
 "nbformat": 4,
 "nbformat_minor": 4
}
