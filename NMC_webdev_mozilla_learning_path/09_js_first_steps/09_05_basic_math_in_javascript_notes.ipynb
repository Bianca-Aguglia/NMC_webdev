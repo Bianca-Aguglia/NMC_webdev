{
 "cells": [
  {
   "cell_type": "markdown",
   "metadata": {},
   "source": [
    "# 9.5 Basic math in JavaScript - numbers\n",
    "---\n",
    "In JavaScript, integers and decimals are both type `number`.  "
   ]
  },
  {
   "cell_type": "markdown",
   "metadata": {},
   "source": [
    "## 1. Useful `Number` methods\n",
    "---\n",
    "Some useful methods of the JavaScript `Number` object:\n",
    "- rounding number to fixed number of decimal places\n",
    "```js\n",
    "let num = 1.7689\n",
    "num.toFixed(2)\n",
    "```\n",
    "- converting string to number\n",
    "```js\n",
    "let num = '`.7689'\n",
    "Number(num)\n",
    "```"
   ]
  },
  {
   "cell_type": "markdown",
   "metadata": {},
   "source": [
    "## 2. Operators\n",
    "---\n",
    "Types of operators:\n",
    "- basic arithmetic operators\n",
    "- assignment operators\n",
    "- increment operators\n",
    "- comparison operators"
   ]
  },
  {
   "cell_type": "markdown",
   "metadata": {},
   "source": [
    "## Resources\n",
    "- [Mozilla basic math in JavaScript](https://developer.mozilla.org/en-US/docs/Learn/JavaScript/First_steps/Math)"
   ]
  },
  {
   "cell_type": "code",
   "execution_count": null,
   "metadata": {},
   "outputs": [],
   "source": []
  }
 ],
 "metadata": {
  "kernelspec": {
   "display_name": "Python 3",
   "language": "python",
   "name": "python3"
  },
  "language_info": {
   "codemirror_mode": {
    "name": "ipython",
    "version": 3
   },
   "file_extension": ".py",
   "mimetype": "text/x-python",
   "name": "python",
   "nbconvert_exporter": "python",
   "pygments_lexer": "ipython3",
   "version": "3.7.7"
  }
 },
 "nbformat": 4,
 "nbformat_minor": 4
}
