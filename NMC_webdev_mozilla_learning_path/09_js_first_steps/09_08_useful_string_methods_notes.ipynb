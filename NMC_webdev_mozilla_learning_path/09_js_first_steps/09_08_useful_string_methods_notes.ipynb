{
 "cells": [
  {
   "cell_type": "markdown",
   "metadata": {},
   "source": [
    "# 9.8 Useful string methods\n",
    "---\n",
    "JavaScript strings are instances of the `String` object which is used to hold and manipulate a sequence of characters. Strings have many properties and methods, and the most commonly used ones are:\n",
    "- getting the length of a string\n",
    "- getting a specific character in the string (indexing into the string)\n",
    "- finding a subtring in the string\n",
    "- extracting a substring\n",
    "- changing the case of the characters in a string\n",
    "- replacing parts of the string"
   ]
  },
  {
   "cell_type": "code",
   "execution_count": 1,
   "metadata": {},
   "outputs": [
    {
     "data": {
      "application/javascript": [
       "let a = 'This is a string.'\n",
       "console.log(a.length)\n",
       "console.log(a[0])\n",
       "console.log(a.indexOf('is'))\n",
       "console.log(a.slice(0,5))\n",
       "console.log(a.toLowerCase())\n",
       "console.log(a.toUpperCase())\n",
       "console.log(a.replace('a ', 'a longer '))\n"
      ],
      "text/plain": [
       "<IPython.core.display.Javascript object>"
      ]
     },
     "metadata": {},
     "output_type": "display_data"
    }
   ],
   "source": [
    "%%javascript\n",
    "let a = 'This is a string.'\n",
    "console.log(a.length)\n",
    "console.log(a[0])\n",
    "console.log(a.indexOf('is'))\n",
    "console.log(a.slice(0,5))\n",
    "console.log(a.toLowerCase())\n",
    "console.log(a.toUpperCase())\n",
    "console.log(a.replace('a ', 'a longer '))"
   ]
  },
  {
   "cell_type": "markdown",
   "metadata": {},
   "source": [
    "```javascript\n",
    "17\n",
    "T\n",
    "2\n",
    "This \n",
    "this is a string.\n",
    "THIS IS A STRING.\n",
    "This is a longer string.\n",
    "```"
   ]
  },
  {
   "cell_type": "markdown",
   "metadata": {},
   "source": [
    "## Resources \n",
    "- [Mozila String page](https://developer.mozilla.org/en-US/docs/Web/JavaScript/Reference/Global_Objects/String)\n",
    "- [Mozilla useful string methods](https://developer.mozilla.org/en-US/docs/Learn/JavaScript/First_steps/Useful_string_methods)"
   ]
  },
  {
   "cell_type": "code",
   "execution_count": null,
   "metadata": {},
   "outputs": [],
   "source": []
  }
 ],
 "metadata": {
  "kernelspec": {
   "display_name": "Python 3",
   "language": "python",
   "name": "python3"
  },
  "language_info": {
   "codemirror_mode": {
    "name": "ipython",
    "version": 3
   },
   "file_extension": ".py",
   "mimetype": "text/x-python",
   "name": "python",
   "nbconvert_exporter": "python",
   "pygments_lexer": "ipython3",
   "version": "3.7.7"
  }
 },
 "nbformat": 4,
 "nbformat_minor": 4
}
