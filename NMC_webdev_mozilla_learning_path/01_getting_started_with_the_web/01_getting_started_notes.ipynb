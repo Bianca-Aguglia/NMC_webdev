{
 "cells": [
  {
   "cell_type": "markdown",
   "metadata": {},
   "source": [
    "# 01 - Getting Started with the Web\n",
    "---\n",
    "**Contents**\n",
    "1. [Installing basic software](#basic_software)  \n",
    "    1.1. Tools: text editor, web browser, graphics editor, version control, FTP, automation system  \n",
    "    1.2. Local server\n",
    "2. [What will your website look like](#website_look)\n",
    "3. [Dealing with files ](#dealing_with_files)(project directory structure)\n",
    "4. [HTML basics](#html_basics)"
   ]
  },
  {
   "cell_type": "markdown",
   "metadata": {},
   "source": [
    "## 1. Installing basic software <a id='basic_software'></a>\n",
    "---\n",
    "### 1.1 Basic tools\n",
    "[Basic tools](https://developer.mozilla.org/en-US/docs/Learn/Getting_started_with_the_web/Installing_basic_software) for web developers <small>(with my choices between parantheses)</small>\n",
    "- text editor (start with VSCode, nano, and jupyter editor)\n",
    "- web browser (Chrome only, to keep things simple for now)\n",
    "- graphics editor (Photoshop, since that's what I already have)\n",
    "- version control (Git)\n",
    "- FTP (not sure yet)\n",
    "- automation system (not sure yet)"
   ]
  },
  {
   "cell_type": "markdown",
   "metadata": {},
   "source": [
    "### 1.2 Setting up a local server\n",
    "[Reasons](https://developer.mozilla.org/en-US/docs/Learn/Common_questions/set_up_a_local_testing_server) for running a local server:\n",
    "- Chrome doesn't run async requests from local files\n",
    "- back-end files (written using server side languages like PHP or Python) need to be run by a server\n",
    "  \n",
    "#### Option 1: Python server\n",
    "A simple Python server:\n",
    "- can handle async requests\n",
    "- can't run server side scripts  \n",
    "\n",
    "To run a simple server, `cd` into the project directory and run one of the following commands (default port is 8000, but can specify specific port as below):\n",
    "```bash\n",
    "python -m http.server\n",
    "python -m http.server 7800\n",
    "python3 -m http.server\n",
    "python3 -m http.server 7800\n",
    "```\n",
    "Use `localhost:8000` to go to this server.  \n",
    "  \n",
    "#### Option 2:  language specific server\n",
    "Language specific servers:\n",
    "- can handle async requests\n",
    "- can run server side scripts  \n",
    "  \n",
    "Options:\n",
    "- Python: Django, Flask\n",
    "- Javascript: Node.js, Express, etc.\n",
    "- PHP: PHP built-in development server\n"
   ]
  },
  {
   "cell_type": "markdown",
   "metadata": {},
   "source": [
    "## 2. What will your website look like \n",
    "---\n",
    "Simple sketch:\n",
    "- text\n",
    "- color scheme (link to [color picker](https://developer.mozilla.org/en-US/docs/Web/CSS/CSS_Colors/Color_picker_tool))\n",
    "- images\n",
    "- font"
   ]
  },
  {
   "cell_type": "markdown",
   "metadata": {},
   "source": [
    "## 3. Dealing with files <a id='dealing_with_files'></a>\n",
    "---\n",
    "Tips:\n",
    "- project directory structure should mirror published website structure on the server\n",
    "- use `-` instead of `_` in file names (Google search engine sees `-` as a word separator, doesn't treat `_` the same way  \n",
    "  \n",
    " \n",
    "Simple directory:\n",
    "```bash\n",
    "project-name\n",
    "|--index.html\n",
    "|--images\n",
    "|--scripts\n",
    "|--styles\n",
    "```"
   ]
  },
  {
   "cell_type": "markdown",
   "metadata": {},
   "source": [
    "## 4. HTML basics <a id='html_basics'></a>\n",
    "---\n",
    "[link](https://developer.mozilla.org/en-US/docs/Learn/Getting_started_with_the_web/HTML_basics)"
   ]
  },
  {
   "cell_type": "markdown",
   "metadata": {},
   "source": [
    "## Resources\n",
    "---\n",
    "- [mozilla setting up a local server](https://developer.mozilla.org/en-US/docs/Learn/Common_questions/set_up_a_local_testing_server)\n",
    "- [mozilla dealing with files](https://developer.mozilla.org/en-US/docs/Learn/Getting_started_with_the_web/Dealing_with_files)\n",
    "- [mozilla HTML basics](https://developer.mozilla.org/en-US/docs/Learn/Getting_started_with_the_web/HTML_basics)"
   ]
  },
  {
   "cell_type": "code",
   "execution_count": null,
   "metadata": {},
   "outputs": [],
   "source": []
  }
 ],
 "metadata": {
  "kernelspec": {
   "display_name": "Python 3",
   "language": "python",
   "name": "python3"
  },
  "language_info": {
   "codemirror_mode": {
    "name": "ipython",
    "version": 3
   },
   "file_extension": ".py",
   "mimetype": "text/x-python",
   "name": "python",
   "nbconvert_exporter": "python",
   "pygments_lexer": "ipython3",
   "version": "3.7.7"
  }
 },
 "nbformat": 4,
 "nbformat_minor": 4
}
