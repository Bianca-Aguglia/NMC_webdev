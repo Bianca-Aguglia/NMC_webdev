{
 "cells": [
  {
   "cell_type": "markdown",
   "metadata": {},
   "source": [
    "# 01 - Getting Started with the Web\n",
    "---\n",
    "**Contents**\n",
    "1. [Installing basic software](#basic_software)  \n",
    "    1.1. Tools: text editor, web browser, graphics editor, version control, FTP, automation system  \n",
    "    1.2. Local server\n",
    "2. [What will your website look like](#website_look)\n",
    "3. [Dealing with files ](#dealing_with_files)(project directory structure)\n",
    "4. [HTML basics](#html_basics)\n",
    "5. [CSS basics](#css_basics)\n",
    "6. [JavaScript basics](#js_basics)"
   ]
  },
  {
   "cell_type": "markdown",
   "metadata": {},
   "source": [
    "## 1. Installing basic software <a id='basic_software'></a>\n",
    "---\n",
    "### 1.1 Basic tools\n",
    "[Basic tools](https://developer.mozilla.org/en-US/docs/Learn/Getting_started_with_the_web/Installing_basic_software) for web developers <small>(with my choices between parantheses)</small>\n",
    "- text editor (start with VSCode, nano, and jupyter editor)\n",
    "- web browser (Chrome only, to keep things simple for now)\n",
    "- graphics editor (Photoshop, since that's what I already have)\n",
    "- version control (Git)\n",
    "- FTP (not sure yet)\n",
    "- automation system (not sure yet)"
   ]
  },
  {
   "cell_type": "markdown",
   "metadata": {},
   "source": [
    "### 1.2 Setting up a local server\n",
    "[Reasons](https://developer.mozilla.org/en-US/docs/Learn/Common_questions/set_up_a_local_testing_server) for running a local server:\n",
    "- Chrome doesn't run async requests from local files\n",
    "- back-end files (written using server side languages like PHP or Python) need to be run by a server\n",
    "  \n",
    "#### Option 1: Python server\n",
    "A simple Python server:\n",
    "- can handle async requests\n",
    "- can't run server side scripts  \n",
    "\n",
    "To run a simple server, `cd` into the project directory and run one of the following commands (default port is 8000, but can specify specific port as below):\n",
    "```bash\n",
    "python -m http.server\n",
    "python -m http.server 7800\n",
    "python3 -m http.server\n",
    "python3 -m http.server 7800\n",
    "```\n",
    "Use `localhost:8000` to go to this server.  \n",
    "  \n",
    "#### Option 2:  language specific server\n",
    "Language specific servers:\n",
    "- can handle async requests\n",
    "- can run server side scripts  \n",
    "  \n",
    "Options:\n",
    "- Python: Django, Flask\n",
    "- Javascript: Node.js, Express, etc.\n",
    "- PHP: PHP built-in development server\n"
   ]
  },
  {
   "cell_type": "markdown",
   "metadata": {},
   "source": [
    "## 2. What will your website look like \n",
    "---\n",
    "Simple sketch:\n",
    "- text\n",
    "- color scheme (link to [color picker](https://developer.mozilla.org/en-US/docs/Web/CSS/CSS_Colors/Color_picker_tool))\n",
    "- images\n",
    "- font"
   ]
  },
  {
   "cell_type": "markdown",
   "metadata": {},
   "source": [
    "## 3. Dealing with files <a id='dealing_with_files'></a>\n",
    "---\n",
    "Tips:\n",
    "- project directory structure should mirror published website structure on the server\n",
    "- use `-` instead of `_` in file names (Google search engine sees `-` as a word separator, doesn't treat `_` the same way  \n",
    "  \n",
    " \n",
    "Simple directory:\n",
    "```bash\n",
    "project-name\n",
    "|--index.html\n",
    "|--images\n",
    "|--scripts\n",
    "|--styles\n",
    "```"
   ]
  },
  {
   "cell_type": "markdown",
   "metadata": {},
   "source": [
    "## 4. HTML basics <a id='html_basics'></a>\n",
    "---\n",
    "**HTML** (Hypertext Markup Language) is the standard markup language that defines the structure of a document meant to be displayed on the web. It consists of a series of elements that enclose different parts of the web document and make it appear a certain way or behave a certain way.  \n",
    "  \n",
    " \n",
    "<img src='img-anatomy-of-an-html-element-mozilla.png'>  \n",
    "  \n",
    "Elements and tags are not the same thing. Tags begin and end an element (they are part of the element), and elements are part of the DOM (the Document Object Model).  \n",
    "  \n",
    "Anatomy of an HTML document:  \n",
    "- `<!DOCTYPE html>` - required preamble. In the past, doctypes were meant to act as links to a set of rules that the HTML page had to follow to be considered good HTML.\n",
    "- `<html></html>` — wraps the content on the entire page and is sometimes known as the `root` element.\n",
    "- `<head></head>` — wraps all the content not shown to the viewers (e.g. keywords, page description, links to stylesheets, etc).\n",
    "- `<meta charset=\"utf-8\">` — sets the character set the document should use (e.g. UTF-8, which includes most characters from the vast majority of written languages).\n",
    "- `<title></title>` — sets the title of the page. The title appears in the browser tab the page is loaded in. It is also used to describe the page when you bookmark/favorite it.\n",
    "- `<body></body>` — contains all the content shown to the web users when they visit the page (e.g. text, images, videos, games, etc).  \n",
    "  \n",
    "Other elements:\n",
    "- `<h1></h1>` - headings (1 through 6)\n",
    "- `<p></p>` - paragraph\n",
    "- `<ol></ol>` - ordered list\n",
    "- `<ul></ul>` - unordered list\n",
    "- `<li></li>` - list element\n",
    "- `<img>` - image\n",
    "- `<a href=''>` - link"
   ]
  },
  {
   "cell_type": "markdown",
   "metadata": {},
   "source": [
    "## 5. CSS basics <a id='css_basics'></a>\n",
    "---\n",
    "**CSS** (Cascading Style Sheets) is a style sheet language. It is used for styling HTML elements.  \n",
    "  \n",
    "Anatomy of a CSS ruleset:\n",
    "  \n",
    "<img src='img-anatomy-of-a-css-ruleset-mozilla.png' width='50%' align='left'>"
   ]
  },
  {
   "cell_type": "markdown",
   "metadata": {},
   "source": [
    "To link to stylesheet: `<link href=\"styles/style.css\" rel=\"stylesheet\">`"
   ]
  },
  {
   "cell_type": "markdown",
   "metadata": {},
   "source": [
    "## 6. JavaScript basics <a id='js_basics'></a>\n",
    "---\n",
    "**JavaScript** is a full fledged dynamic programming language that can add interactivity to a website."
   ]
  },
  {
   "cell_type": "code",
   "execution_count": null,
   "metadata": {},
   "outputs": [],
   "source": []
  },
  {
   "cell_type": "code",
   "execution_count": null,
   "metadata": {},
   "outputs": [],
   "source": []
  },
  {
   "cell_type": "code",
   "execution_count": null,
   "metadata": {},
   "outputs": [],
   "source": []
  },
  {
   "cell_type": "markdown",
   "metadata": {},
   "source": [
    "## Resources\n",
    "---\n",
    "- [mozilla setting up a local server](https://developer.mozilla.org/en-US/docs/Learn/Common_questions/set_up_a_local_testing_server)\n",
    "- [mozilla dealing with files](https://developer.mozilla.org/en-US/docs/Learn/Getting_started_with_the_web/Dealing_with_files)\n",
    "- [mozilla HTML basics](https://developer.mozilla.org/en-US/docs/Learn/Getting_started_with_the_web/HTML_basics)\n",
    "- [mozilla CSS basics](https://developer.mozilla.org/en-US/docs/Learn/Getting_started_with_the_web/CSS_basics)\n",
    "- [mozilla JavaScript basics](https://developer.mozilla.org/en-US/docs/Learn/Getting_started_with_the_web/JavaScript_basics)"
   ]
  },
  {
   "cell_type": "code",
   "execution_count": null,
   "metadata": {},
   "outputs": [],
   "source": []
  }
 ],
 "metadata": {
  "kernelspec": {
   "display_name": "Python 3",
   "language": "python",
   "name": "python3"
  },
  "language_info": {
   "codemirror_mode": {
    "name": "ipython",
    "version": 3
   },
   "file_extension": ".py",
   "mimetype": "text/x-python",
   "name": "python",
   "nbconvert_exporter": "python",
   "pygments_lexer": "ipython3",
   "version": "3.7.7"
  }
 },
 "nbformat": 4,
 "nbformat_minor": 4
}
