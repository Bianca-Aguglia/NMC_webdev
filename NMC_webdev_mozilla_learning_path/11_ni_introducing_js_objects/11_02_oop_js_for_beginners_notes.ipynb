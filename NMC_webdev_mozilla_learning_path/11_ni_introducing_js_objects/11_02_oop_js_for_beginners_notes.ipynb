{
 "cells": [
  {
   "cell_type": "markdown",
   "metadata": {},
   "source": [
    "# 11.2 Object-oriented JavaScript for beginners\n",
    "---\n",
    "The basic idea of **Object Oriented Programming** (OOP) is that we use objects to model real world things into our programs, and provide functionality that would otherwise be difficult or impossible to implement. Objects are commonly used as data stores that can be easily trasferred across programs and networks.\n",
    "\n",
    "Terms related to OOP:\n",
    "- **encapsulation** - storing an object's relevant properties and functionality inside a single package\n",
    "- **abstraction** - a simple model of a complex thing\n",
    "- **inheritance** - a sub-class (a.k.a. child class) can reuse functionality of a parent class\n",
    "- **polymorphism** - the ability of multiple object types to implement the same functionality"
   ]
  },
  {
   "cell_type": "markdown",
   "metadata": {},
   "source": [
    "## 1. Ways of creating objects\n",
    "---\n",
    "The different ways of creating objects are:\n",
    "- object literal\n",
    "- object constructor functions\n",
    "- the `Object()` constructor\n",
    "- the `create()` method"
   ]
  },
  {
   "cell_type": "markdown",
   "metadata": {},
   "source": [
    "## Resources\n",
    "- [Mozilla object-oriented JavaScript for beginners](https://developer.mozilla.org/en-US/docs/Learn/JavaScript/Objects/Object-oriented_JS)"
   ]
  },
  {
   "cell_type": "code",
   "execution_count": null,
   "metadata": {},
   "outputs": [],
   "source": []
  }
 ],
 "metadata": {
  "kernelspec": {
   "display_name": "Python 3",
   "language": "python",
   "name": "python3"
  },
  "language_info": {
   "codemirror_mode": {
    "name": "ipython",
    "version": 3
   },
   "file_extension": ".py",
   "mimetype": "text/x-python",
   "name": "python",
   "nbconvert_exporter": "python",
   "pygments_lexer": "ipython3",
   "version": "3.7.7"
  }
 },
 "nbformat": 4,
 "nbformat_minor": 4
}
