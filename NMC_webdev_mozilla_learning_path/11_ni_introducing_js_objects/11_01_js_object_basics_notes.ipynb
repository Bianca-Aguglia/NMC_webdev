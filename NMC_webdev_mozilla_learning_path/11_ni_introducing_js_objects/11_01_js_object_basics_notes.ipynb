{
 "cells": [
  {
   "cell_type": "markdown",
   "metadata": {},
   "source": [
    "# 11.1 JavaScript object basics\n",
    "---\n",
    "An **object** is a collection of related data and/or functionality. It usually consists of several variables and functions. The variables are called **properties** and the functions are called **methods**.  \n",
    "  \n",
    "Objects can be instantiated from:\n",
    "- object literals\n",
    "- classes  \n",
    "  \n",
    "Object properties and methods can be accessed using:\n",
    "- dot notation\n",
    "    - the object name acts as a namespace\n",
    "- square bracket notation\n",
    "    - this is why objects are sometimes called **associative arrays** (instead of using an integer index to access the element of the object, we use the name associated with the value of the element)  \n",
    "  \n",
    "It's useful to think of the way objects communicate as **message passing**: when object `A` needs object `B` to perform some kind of action, `A` uses one of its methods to send a message to `B` and waits for a response from it."
   ]
  },
  {
   "cell_type": "markdown",
   "metadata": {},
   "source": [
    "## Resources\n",
    "- [Mozilla JavaScript object basics](https://developer.mozilla.org/en-US/docs/Learn/JavaScript/Objects/Basics)"
   ]
  },
  {
   "cell_type": "code",
   "execution_count": null,
   "metadata": {},
   "outputs": [],
   "source": []
  }
 ],
 "metadata": {
  "kernelspec": {
   "display_name": "Python 3",
   "language": "python",
   "name": "python3"
  },
  "language_info": {
   "codemirror_mode": {
    "name": "ipython",
    "version": 3
   },
   "file_extension": ".py",
   "mimetype": "text/x-python",
   "name": "python",
   "nbconvert_exporter": "python",
   "pygments_lexer": "ipython3",
   "version": "3.7.7"
  }
 },
 "nbformat": 4,
 "nbformat_minor": 4
}
