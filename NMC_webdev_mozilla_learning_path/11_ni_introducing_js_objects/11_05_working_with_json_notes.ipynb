{
 "cells": [
  {
   "cell_type": "markdown",
   "metadata": {},
   "source": [
    "# 11.5 Working with JSON\n",
    "---\n",
    "**JSON** (JavaScript Object Notation) is a standard text-based data format that closely follows the syntax of JavaScript objects. Even though JSON data looks like JavaScript objects, it can be used independently of JavaScript. In fact, it is such a widely used data format, that most programming languages have functionalities for reading and writing JSON.  \n",
    "  \n",
    "**Serialization**: converting a native data object into a string.  \n",
    "**Deserialization**: converting a string into a native data object.  \n",
    "  \n",
    "Some notes about JSON:\n",
    "- JSON is purely string: it contains only properties, no methods\n",
    "- JSON requires double quotes around property names and property values (single quotes are not valid, unless they surround the entire JSON string)\n",
    "- JSON can take the form of any data type that is valid for inclusion inside JSON, not just arrays or objects (i.e. a single string or number would be valid JSON)  \n",
    "  \n",
    "Converting between JSON and object:\n",
    "- `JSON.parse(json_object)`\n",
    "- `JSON.stringify(javascript_object)`"
   ]
  },
  {
   "cell_type": "markdown",
   "metadata": {},
   "source": [
    "## Resources \n",
    "- [Mozilla working with JSON](https://developer.mozilla.org/en-US/docs/Learn/JavaScript/Objects/JSON)"
   ]
  },
  {
   "cell_type": "code",
   "execution_count": null,
   "metadata": {},
   "outputs": [],
   "source": []
  }
 ],
 "metadata": {
  "kernelspec": {
   "display_name": "Python 3",
   "language": "python",
   "name": "python3"
  },
  "language_info": {
   "codemirror_mode": {
    "name": "ipython",
    "version": 3
   },
   "file_extension": ".py",
   "mimetype": "text/x-python",
   "name": "python",
   "nbconvert_exporter": "python",
   "pygments_lexer": "ipython3",
   "version": "3.7.7"
  }
 },
 "nbformat": 4,
 "nbformat_minor": 4
}
