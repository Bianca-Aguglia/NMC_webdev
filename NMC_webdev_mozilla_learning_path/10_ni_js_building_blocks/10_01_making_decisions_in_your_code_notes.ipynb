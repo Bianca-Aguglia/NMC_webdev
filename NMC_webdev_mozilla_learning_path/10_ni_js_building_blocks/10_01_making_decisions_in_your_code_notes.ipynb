{
 "cells": [
  {
   "cell_type": "markdown",
   "metadata": {},
   "source": [
    "# 10.1 Making decisions in your code - conditionals\n",
    "---\n",
    "There are five different ways to implement conditionals:\n",
    "- `if`\n",
    "- `if else`\n",
    "- `if` `else if`\n",
    "- ternary operator\n",
    "- `switch` statement"
   ]
  },
  {
   "cell_type": "markdown",
   "metadata": {},
   "source": [
    "## Examples\n",
    "---\n",
    "1. `if` statement"
   ]
  },
  {
   "cell_type": "code",
   "execution_count": null,
   "metadata": {},
   "outputs": [],
   "source": [
    "%%javascript\n",
    "let isSunny = true;\n",
    "if (isSunny) {\n",
    "    console.log('Put sunscreen on')\n",
    "}"
   ]
  },
  {
   "cell_type": "markdown",
   "metadata": {},
   "source": [
    "2. `if else`"
   ]
  },
  {
   "cell_type": "code",
   "execution_count": 1,
   "metadata": {},
   "outputs": [
    {
     "data": {
      "application/javascript": [
       "let isSunny = false;\n",
       "if (isSunny) {\n",
       "    console.log('Put sunscreen on')\n",
       "} else {\n",
       "    console.log('Take your umbrella')\n",
       "}\n"
      ],
      "text/plain": [
       "<IPython.core.display.Javascript object>"
      ]
     },
     "metadata": {},
     "output_type": "display_data"
    }
   ],
   "source": [
    "%%javascript\n",
    "let isSunny = false;\n",
    "if (isSunny) {\n",
    "    console.log('Put sunscreen on')\n",
    "} else {\n",
    "    console.log('Take your umbrella')\n",
    "}"
   ]
  },
  {
   "cell_type": "markdown",
   "metadata": {},
   "source": [
    "3. `if` `else if`"
   ]
  },
  {
   "cell_type": "code",
   "execution_count": 2,
   "metadata": {},
   "outputs": [
    {
     "data": {
      "application/javascript": [
       "let temp = 72;\n",
       "if (temp < 32) {\n",
       "    console.log('It\\'s cold');\n",
       "} else if (temp < 70) {\n",
       "    console.log('It\\'s comfortable');\n",
       "} else {\n",
       "    console.log('It\\'s hot')\n",
       "}\n"
      ],
      "text/plain": [
       "<IPython.core.display.Javascript object>"
      ]
     },
     "metadata": {},
     "output_type": "display_data"
    }
   ],
   "source": [
    "%%javascript\n",
    "let temp = 72;\n",
    "if (temp < 32) {\n",
    "    console.log('It\\'s cold');\n",
    "} else if (temp < 70) {\n",
    "    console.log('It\\'s comfortable');\n",
    "} else {\n",
    "    console.log('It\\'s hot')\n",
    "}"
   ]
  },
  {
   "cell_type": "markdown",
   "metadata": {},
   "source": [
    "4. ternary operator"
   ]
  },
  {
   "cell_type": "code",
   "execution_count": 3,
   "metadata": {},
   "outputs": [
    {
     "data": {
      "application/javascript": [
       "let isSunny = true;\n",
       "let message = (isSunny)? 'Put sunscreen on.' : 'Take your umbrella';\n",
       "console.log(message)\n"
      ],
      "text/plain": [
       "<IPython.core.display.Javascript object>"
      ]
     },
     "metadata": {},
     "output_type": "display_data"
    }
   ],
   "source": [
    "%%javascript\n",
    "let isSunny = true;\n",
    "let message = (isSunny)? 'Put sunscreen on.' : 'Take your umbrella';\n",
    "console.log(message)"
   ]
  },
  {
   "cell_type": "markdown",
   "metadata": {},
   "source": [
    "5. `switch` statement"
   ]
  },
  {
   "cell_type": "code",
   "execution_count": 12,
   "metadata": {},
   "outputs": [
    {
     "data": {
      "application/javascript": [
       "let eightBall = 7;\n",
       "switch (eightBall) {\n",
       "    case 1:\n",
       "        console.log('certain');\n",
       "        break;\n",
       "    case 2: \n",
       "        console.log('unsure');\n",
       "        break;\n",
       "    case 3:\n",
       "        console.log('likely')\n",
       "        break;\n",
       "    default:\n",
       "        console.log('impossible')\n",
       "}\n"
      ],
      "text/plain": [
       "<IPython.core.display.Javascript object>"
      ]
     },
     "metadata": {},
     "output_type": "display_data"
    }
   ],
   "source": [
    "%%javascript\n",
    "let eightBall = 7;\n",
    "switch (eightBall) {\n",
    "    case 1:\n",
    "        console.log('certain');\n",
    "        break;\n",
    "    case 2: \n",
    "        console.log('unsure');\n",
    "        break;\n",
    "    case 3:\n",
    "        console.log('likely')\n",
    "        break;\n",
    "    default:\n",
    "        console.log('impossible')\n",
    "}"
   ]
  },
  {
   "cell_type": "code",
   "execution_count": 9,
   "metadata": {},
   "outputs": [
    {
     "data": {
      "application/javascript": [
       "let temp = 58;\n",
       "switch (true) {\n",
       "    case (temp < 32):\n",
       "        console.log('cold');\n",
       "        break;\n",
       "    case (temp < 50):\n",
       "        console.log('cool');\n",
       "        break;\n",
       "    case (temp < 70):\n",
       "        console.log('comfortable');\n",
       "        break;\n",
       "    default:\n",
       "        console.log('hot')\n",
       "}\n"
      ],
      "text/plain": [
       "<IPython.core.display.Javascript object>"
      ]
     },
     "metadata": {},
     "output_type": "display_data"
    }
   ],
   "source": [
    "%%javascript\n",
    "let temp = 58;\n",
    "switch (true) {\n",
    "    case (temp < 32):\n",
    "        console.log('cold');\n",
    "        break;\n",
    "    case (temp < 50):\n",
    "        console.log('cool');\n",
    "        break;\n",
    "    case (temp < 70):\n",
    "        console.log('comfortable');\n",
    "        break;\n",
    "    default:\n",
    "        console.log('hot')\n",
    "}"
   ]
  },
  {
   "cell_type": "markdown",
   "metadata": {},
   "source": [
    "## References\n",
    "- [Mozilla making decisions in your code](https://developer.mozilla.org/en-US/docs/Learn/JavaScript/Building_blocks/conditionals)"
   ]
  },
  {
   "cell_type": "code",
   "execution_count": null,
   "metadata": {},
   "outputs": [],
   "source": []
  }
 ],
 "metadata": {
  "kernelspec": {
   "display_name": "Python 3",
   "language": "python",
   "name": "python3"
  },
  "language_info": {
   "codemirror_mode": {
    "name": "ipython",
    "version": 3
   },
   "file_extension": ".py",
   "mimetype": "text/x-python",
   "name": "python",
   "nbconvert_exporter": "python",
   "pygments_lexer": "ipython3",
   "version": "3.7.7"
  }
 },
 "nbformat": 4,
 "nbformat_minor": 4
}
