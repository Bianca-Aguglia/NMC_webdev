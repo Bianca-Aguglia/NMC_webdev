{
 "cells": [
  {
   "cell_type": "markdown",
   "metadata": {},
   "source": [
    "# 10.6 Introduction to events\n",
    "---\n",
    "**Events** are actions or occurrences that happen in the system a program is running in.  \n",
    "  \n",
    "Examples of events:\n",
    "- `onlick`\n",
    "- `ondblclick`\n",
    "- `onfocus`\n",
    "- `onblur`\n",
    "- `onmouseover`\n",
    "- `onmouseout`\n",
    "- `onkeypress`  \n",
    "  \n",
    "Terms related to events:\n",
    "- **event handler**: piece of code that run when an event happens (defining the code is called **registering an event handler**)\n",
    "- **event listener**: piece of code that keeps checking the element it is attached to (to see if events occur on it)  "
   ]
  },
  {
   "cell_type": "markdown",
   "metadata": {},
   "source": [
    "## 1. Ways of using web events\n",
    "---\n",
    "The three main ways of using web events:\n",
    "  \n",
    "**1. inline html**: the opposite of best practice  \n",
    "  \n",
    "Example:\n",
    "```html\n",
    "<button onclick = myFunction()>Press me</button>\n",
    "```\n",
    "```javascript\n",
    "function myFunction() {\n",
    "    console.log('Not the right way of using events!')\n",
    "}\n",
    "```\n",
    "**2. event handler properties**  \n",
    "  \n",
    "Example:\n",
    "```javascript\n",
    "function myFunction() {\n",
    "    console.log('Better way of using events.')\n",
    "}\n",
    "const btn = document.querySelector('button')\n",
    "btn.onclick = myFunction()\n",
    "```\n",
    "**3. `addEventListener` method**\n",
    "- this is the modern practice\n",
    "- advantages\n",
    "    - can attach multiple handlers to same event\n",
    "    - easy to remove event listeners  \n",
    "  \n",
    "Example:\n",
    "```javascript\n",
    "function myFunction1() {\n",
    "    console.log('Modern way of using events.')\n",
    "}\n",
    "function myFunction2() {\n",
    "    console.log('Can easily remove event listeners')\n",
    "}\n",
    "const btn = document.querySelector('button')\n",
    "btn.addEventListener('click', myFunction1)\n",
    "btn.addEventListener('click', myFunction2)\n",
    "btn.removeEventListener('click', myFunction1)\n",
    "```"
   ]
  },
  {
   "cell_type": "markdown",
   "metadata": {},
   "source": [
    "## 2. Event objects\n",
    "---\n",
    "**Event objects** are parameters specific inside event handlers.  \n",
    "  \n",
    "Example:\n",
    "```javascript\n",
    "function bgChange(e) {\n",
    "  const rndCol = 'rgb(' + random(255) + ',' + random(255) + ',' + random(255) + ')';\n",
    "  e.target.style.backgroundColor = rndCol;\n",
    "  console.log(e);\n",
    "}\n",
    "\n",
    "btn.addEventListener('click', bgChange);\n",
    "```"
   ]
  },
  {
   "cell_type": "markdown",
   "metadata": {},
   "source": [
    "## 3. Capturing and bubbling\n",
    "---\n",
    "**Capturing**: events handlers are run top down (from parent down to child).  \n",
    "**Bubling**: events handlers are run bottom-up (fron child up to parent).  \n",
    "  \n",
    "The default behavior is bubling. To stop event propagation, use `e.stopPropagation()`.  \n",
    "  \n",
    "<img src='../images/img-bubbling-capturing-mozilla.png'>"
   ]
  },
  {
   "cell_type": "markdown",
   "metadata": {},
   "source": []
  },
  {
   "cell_type": "markdown",
   "metadata": {},
   "source": [
    "## Resources\n",
    "- [Mozilla introduction to events](https://developer.mozilla.org/en-US/docs/Learn/JavaScript/Building_blocks/Events)"
   ]
  },
  {
   "cell_type": "code",
   "execution_count": null,
   "metadata": {},
   "outputs": [],
   "source": []
  }
 ],
 "metadata": {
  "kernelspec": {
   "display_name": "Python 3",
   "language": "python",
   "name": "python3"
  },
  "language_info": {
   "codemirror_mode": {
    "name": "ipython",
    "version": 3
   },
   "file_extension": ".py",
   "mimetype": "text/x-python",
   "name": "python",
   "nbconvert_exporter": "python",
   "pygments_lexer": "ipython3",
   "version": "3.7.7"
  }
 },
 "nbformat": 4,
 "nbformat_minor": 4
}
