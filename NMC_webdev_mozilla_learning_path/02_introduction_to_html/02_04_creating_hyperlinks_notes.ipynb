{
 "cells": [
  {
   "cell_type": "markdown",
   "metadata": {},
   "source": [
    "# 2.4 Creating hyperlinks\n",
    "---\n",
    "**Hyperlinks** can be used to link to:\n",
    "- other websites\n",
    "- other pages pages within the same website\n",
    "- other resources (e.g. video, audio, images, etc) within the same website or from other websites\n",
    "- other sections of the same page\n",
    "- email windows"
   ]
  },
  {
   "cell_type": "markdown",
   "metadata": {},
   "source": [
    "Hyperlinks best practices:\n",
    "- use descriptive text (e.g. <a href='#'>download Firefox</a> instead of <a href='#'>click here</a>)\n",
    "- use text that warns the user if hyperlink is to download, video, audio, Flash game, etc\n",
    "    - examples\n",
    "        - <a href=\"https://www.example.com/large-report.pdf\">Download the sales report (PDF, 10MB)</a>\n",
    "        - <a href=\"https://www.example.com/video-stream/\" target=\"_blank\">Watch the video (stream opens in separate tab, HD quality)</a>\n",
    "        - <a href=\"https://www.example.com/car-game\">Play the car game (requires Flash)</a>\n",
    "- use the `download` attribute when linking to a download (it provides a default save file name)\n",
    "    - e.g. <a href='#' download='sales_report.pdf'>Download the sales report (PDF, 10MB)</a>\n",
    "- use relative URL when linking to local resources"
   ]
  },
  {
   "cell_type": "markdown",
   "metadata": {},
   "source": [
    "## Resources\n",
    "- [Mozilla creating hyperlinks](https://developer.mozilla.org/en-US/docs/Learn/HTML/Introduction_to_HTML/Creating_hyperlinks)"
   ]
  },
  {
   "cell_type": "code",
   "execution_count": null,
   "metadata": {},
   "outputs": [],
   "source": []
  }
 ],
 "metadata": {
  "kernelspec": {
   "display_name": "Python 3",
   "language": "python",
   "name": "python3"
  },
  "language_info": {
   "codemirror_mode": {
    "name": "ipython",
    "version": 3
   },
   "file_extension": ".py",
   "mimetype": "text/x-python",
   "name": "python",
   "nbconvert_exporter": "python",
   "pygments_lexer": "ipython3",
   "version": "3.7.7"
  }
 },
 "nbformat": 4,
 "nbformat_minor": 4
}
