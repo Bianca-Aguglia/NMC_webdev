{
 "cells": [
  {
   "cell_type": "markdown",
   "metadata": {},
   "source": [
    "# 2.6 Document and website structure\n",
    "---\n",
    "Elements often used to define areas of content on a web page are:\n",
    "- `<header>` - header\n",
    "- `<nav>` - navigation bar\n",
    "- `<main>` - main section of the page\n",
    "    - often has the following nested elements\n",
    "        - `<article>`\n",
    "        - `<section>`\n",
    "        - `<div>`\n",
    "        - `<aside>` - side bar\n",
    "- `<footer>`  "
   ]
  },
  {
   "cell_type": "markdown",
   "metadata": {},
   "source": [
    "Structure best practices:\n",
    "- `<header>`, `<nav>`, and `<footer>` elements should be consistent across pages\n",
    "- no clear rule about including `<nav>` inside `<header>` or keeping them separate\n",
    "- one `<main>` per page\n",
    "- keep `<div>` to a minimum (semantically, better options are `<section>` and `<article>`)  "
   ]
  },
  {
   "cell_type": "markdown",
   "metadata": {},
   "source": [
    "The process of planning a website, deciding what content goes on each page, and determining how different pages and different pieces of content are linked together is called **information architecture**."
   ]
  },
  {
   "cell_type": "markdown",
   "metadata": {},
   "source": [
    "## Resources\n",
    "- [Mozilla document and website structure](https://developer.mozilla.org/en-US/docs/Learn/HTML/Introduction_to_HTML/Document_and_website_structure)"
   ]
  },
  {
   "cell_type": "code",
   "execution_count": null,
   "metadata": {},
   "outputs": [],
   "source": []
  }
 ],
 "metadata": {
  "kernelspec": {
   "display_name": "Python 3",
   "language": "python",
   "name": "python3"
  },
  "language_info": {
   "codemirror_mode": {
    "name": "ipython",
    "version": 3
   },
   "file_extension": ".py",
   "mimetype": "text/x-python",
   "name": "python",
   "nbconvert_exporter": "python",
   "pygments_lexer": "ipython3",
   "version": "3.7.7"
  }
 },
 "nbformat": 4,
 "nbformat_minor": 4
}
