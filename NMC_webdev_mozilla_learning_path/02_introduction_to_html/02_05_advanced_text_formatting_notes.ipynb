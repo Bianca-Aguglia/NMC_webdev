{
 "cells": [
  {
   "cell_type": "markdown",
   "metadata": {},
   "source": [
    "# 2.5 Advanced text formatting\n",
    "---\n",
    "In addition to the text related HTML elements covered in section 2.3, text content can be marked up using the following elements:\n",
    "- `<dl>` - description list (used for definitions, and questions and answers)\n",
    "    - `<dt>` - description term\n",
    "    - `<dd>` - description \n",
    "- `<blockquote>` - block quote\n",
    "- `<q>` - inline quote\n",
    "- `<cite>` - cite the source of a quote\n",
    "- `<abbr>` - abbreviation\n",
    "- `<address>` - contact details\n",
    "- `<sup>` - superscript\n",
    "- `<sub>` - subscript\n",
    "- `<code>` - code\n",
    "    - `<pre>` - preformatted (maintains white space)\n",
    "    - `<var>` - program variable\n",
    "    - `<kbd>` - keyboard input\n",
    "    - `<samp>` - output of a computer program\n",
    "- `<time>` - datetime data"
   ]
  },
  {
   "cell_type": "markdown",
   "metadata": {},
   "source": [
    "## Resources\n",
    "- [Mozilla advanced text formatting](https://developer.mozilla.org/en-US/docs/Learn/HTML/Introduction_to_HTML/Advanced_text_formatting)"
   ]
  },
  {
   "cell_type": "code",
   "execution_count": null,
   "metadata": {},
   "outputs": [],
   "source": []
  }
 ],
 "metadata": {
  "kernelspec": {
   "display_name": "Python 3",
   "language": "python",
   "name": "python3"
  },
  "language_info": {
   "codemirror_mode": {
    "name": "ipython",
    "version": 3
   },
   "file_extension": ".py",
   "mimetype": "text/x-python",
   "name": "python",
   "nbconvert_exporter": "python",
   "pygments_lexer": "ipython3",
   "version": "3.7.7"
  }
 },
 "nbformat": 4,
 "nbformat_minor": 4
}
