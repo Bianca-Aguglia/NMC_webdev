{
 "cells": [
  {
   "cell_type": "markdown",
   "metadata": {},
   "source": [
    "# 2.2 What's in the head? Metadata in HTML\n",
    "---\n",
    "The `head` of an HTML is the part that isn't shown to the user. It includes elements that describe the document and elements that name the resources the document uses.  \n",
    "  \n",
    "Example of elements often found in the `head`:\n",
    "- `<title>`\n",
    "- `<meta charset='utf-8'>`\n",
    "- `<meta name='author' content='Jane Doe'>`\n",
    "- `<meta name='description' content='This page is about things Jane Doe likes.'>`\n",
    "- `<link rel='stylesheet' href='style.css'>`\n",
    "- `<link rel='shortcut icon' href='Jane_Doe_favicon.ico'>`\n",
    "- `<script src='script.js' defer>`"
   ]
  },
  {
   "cell_type": "markdown",
   "metadata": {},
   "source": [
    "## Resources\n",
    "[Mozilla what's in the head](https://developer.mozilla.org/en-US/docs/Learn/HTML/Introduction_to_HTML/The_head_metadata_in_HTML)"
   ]
  },
  {
   "cell_type": "code",
   "execution_count": null,
   "metadata": {},
   "outputs": [],
   "source": []
  }
 ],
 "metadata": {
  "kernelspec": {
   "display_name": "Python 3",
   "language": "python",
   "name": "python3"
  },
  "language_info": {
   "codemirror_mode": {
    "name": "ipython",
    "version": 3
   },
   "file_extension": ".py",
   "mimetype": "text/x-python",
   "name": "python",
   "nbconvert_exporter": "python",
   "pygments_lexer": "ipython3",
   "version": "3.7.7"
  }
 },
 "nbformat": 4,
 "nbformat_minor": 4
}
