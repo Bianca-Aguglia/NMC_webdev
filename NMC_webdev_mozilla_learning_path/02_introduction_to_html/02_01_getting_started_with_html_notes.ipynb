{
 "cells": [
  {
   "cell_type": "markdown",
   "metadata": {},
   "source": [
    "# 2.1 Getting started with HTML\n",
    "---\n",
    "**Contents**\n",
    "1. [What is HTML](#what_is_html)\n",
    "2. [Anatomy of an HTML element](#anatomy_html_element)\n",
    "3. [Anatomy of an HTML document](#anatomy_html_document)\n",
    "4. [Entity references](#entity_references)\n",
    "5. [HTML comments](#html_comments)\n",
    "6. [References](#references)"
   ]
  },
  {
   "cell_type": "markdown",
   "metadata": {},
   "source": [
    "## 1. What is HTML? <a id='what_is_html'></a>\n",
    "---\n",
    "**HTML** (Hypertext Markup Language) is a markup language, not a programming language. It tells web browsers how to structure web documents. It comsists of *elements* that wrap, or markup pieces of content and make them appear a certain way or behave a certain way."
   ]
  },
  {
   "cell_type": "markdown",
   "metadata": {},
   "source": [
    "## 2. Anatomy of an HTML element <a id='anatomy_html_element'></a>\n",
    "---\n",
    "<img src='../../01_getting_started_with_the_web/img-anatomy-of-an-html-element-mozilla.png'>"
   ]
  },
  {
   "cell_type": "markdown",
   "metadata": {},
   "source": [
    "### Notes about elements:\n",
    "- elements can be nested \n",
    "- elements can be block or inline\n",
    "    - block\n",
    "        - appear on a line by themselves\n",
    "        - are usually the structural elements (eg. h1, p, ul, etc)\n",
    "    - inline\n",
    "        - contained within block elements\n",
    "        - usually for wrapping parts of text (e.g. em, strong, etc)\n",
    "- elements can be empty (or void)\n",
    "    - usually elements that insert/embed something into the document (e.g. img)\n",
    "- elements can have attributes\n",
    "    - boolean attributes can be specified by value (e.g. `<input type=\"text\" disabled>` is short for `<input type=\"text\" disabled=\"disabled\">`)"
   ]
  },
  {
   "cell_type": "markdown",
   "metadata": {},
   "source": [
    "## 3. Anatomy of an HTML document <a id='anatomy_html_document'></a>\n",
    "---\n",
    "<img src='img-anatomy-of-html-document-mozilla.png'>"
   ]
  },
  {
   "cell_type": "markdown",
   "metadata": {},
   "source": [
    "## 4. Entity references <a id='entity_references'></a>\n",
    "---\n",
    "**Entity references** are special codes used to represent characters that are part of HTML language. For example, `<` is `&lt;`.  \n",
    "  \n",
    "The most common entity references are:  \n",
    "<img src='img-entity-references-mozilla.png'>"
   ]
  },
  {
   "cell_type": "markdown",
   "metadata": {},
   "source": [
    "## 5. HTML comments\n",
    "---\n",
    "The syntax for HTML comments is:  `<!-- comment here -->`"
   ]
  },
  {
   "cell_type": "markdown",
   "metadata": {},
   "source": [
    "## Resources <a id='resources'></a>\n",
    "1. [Mozilla: getting started with HTML](https://developer.mozilla.org/en-US/docs/Learn/HTML/Introduction_to_HTML/Getting_started)"
   ]
  },
  {
   "cell_type": "code",
   "execution_count": null,
   "metadata": {},
   "outputs": [],
   "source": []
  }
 ],
 "metadata": {
  "kernelspec": {
   "display_name": "Python 3",
   "language": "python",
   "name": "python3"
  },
  "language_info": {
   "codemirror_mode": {
    "name": "ipython",
    "version": 3
   },
   "file_extension": ".py",
   "mimetype": "text/x-python",
   "name": "python",
   "nbconvert_exporter": "python",
   "pygments_lexer": "ipython3",
   "version": "3.7.7"
  }
 },
 "nbformat": 4,
 "nbformat_minor": 4
}
