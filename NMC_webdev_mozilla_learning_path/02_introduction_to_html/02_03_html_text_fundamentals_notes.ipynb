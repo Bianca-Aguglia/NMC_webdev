{
 "cells": [
  {
   "cell_type": "markdown",
   "metadata": {},
   "source": [
    "# 2.3 HTML text fundamentals\n",
    "---\n",
    "HTML is used to clarify a web document's structure and semantics.  \n",
    "  \n",
    "Commonly used text elements:\n",
    "- `<h1>` - heading (1 through 6)\n",
    "    - also useful for SEO and screen readers\n",
    "    - best practice: one `<h1>` per page\n",
    "- `<p>` - paragraph\n",
    "- `<ol>` - ordered list\n",
    "- `<ul>` - unorderdered list\n",
    "- `<li>` - list element\n",
    "- `<em>` - emphasis\n",
    "- `<strong>` - strong"
   ]
  },
  {
   "cell_type": "markdown",
   "metadata": {},
   "source": [
    "## Resources\n",
    "[Mozilla HTML text fundamentals](https://developer.mozilla.org/en-US/docs/Learn/HTML/Introduction_to_HTML/HTML_text_fundamentals)"
   ]
  },
  {
   "cell_type": "code",
   "execution_count": null,
   "metadata": {},
   "outputs": [],
   "source": []
  }
 ],
 "metadata": {
  "kernelspec": {
   "display_name": "Python 3",
   "language": "python",
   "name": "python3"
  },
  "language_info": {
   "codemirror_mode": {
    "name": "ipython",
    "version": 3
   },
   "file_extension": ".py",
   "mimetype": "text/x-python",
   "name": "python",
   "nbconvert_exporter": "python",
   "pygments_lexer": "ipython3",
   "version": "3.7.7"
  }
 },
 "nbformat": 4,
 "nbformat_minor": 4
}
